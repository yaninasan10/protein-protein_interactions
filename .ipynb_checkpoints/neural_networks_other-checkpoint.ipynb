{
 "cells": [
  {
   "cell_type": "code",
   "execution_count": 83,
   "metadata": {},
   "outputs": [],
   "source": [
    "import pandas as pd\n",
    "import numpy as np\n",
    "\n",
    "database = pd.read_csv('~/FINAL_DATE_', nrows=3000)\n",
    "db = pd.read_csv('~/protein-protein_interactions/FINAL_SEC_STR')"
   ]
  },
  {
   "cell_type": "markdown",
   "metadata": {},
   "source": [
    "А теперь нейронки(а) аля логистическая регрессия!"
   ]
  },
  {
   "cell_type": "code",
   "execution_count": 84,
   "metadata": {},
   "outputs": [],
   "source": [
    "from torch import nn\n",
    "import torch\n",
    "import torch.nn.functional as F"
   ]
  },
  {
   "cell_type": "code",
   "execution_count": 85,
   "metadata": {},
   "outputs": [],
   "source": [
    "database = database.drop(['Unnamed: 0'], axis=1)\n",
    "X = database.drop(['class', 'UNIPROT_SYMBOL_A', 'UNIPROT_SYMBOL_B'], axis=1)\n",
    "y = database['class']\n",
    "X_ = db.drop(['class', 'UNIPROT_SYMBOL_A', 'UNIPROT_SYMBOL_B'], axis=1)\n",
    "y_ = db['class']"
   ]
  },
  {
   "cell_type": "code",
   "execution_count": 86,
   "metadata": {},
   "outputs": [],
   "source": [
    "model = nn.Sequential()\n",
    "model.add_module('l1', nn.Linear(686, 1))\n",
    "model.add_module('l2', nn.Sigmoid())\n",
    "\n",
    "opt = torch.optim.Adam(model.parameters(), lr=1e-5)\n",
    "\n",
    "model_ = nn.Sequential()\n",
    "model_.add_module('l1', nn.Linear(2280, 1))\n",
    "model_.add_module('l2', nn.Sigmoid())\n",
    "\n",
    "opt_ = torch.optim.Adam(model_.parameters(), lr=1e-5)"
   ]
  },
  {
   "cell_type": "code",
   "execution_count": 87,
   "metadata": {},
   "outputs": [
    {
     "name": "stdout",
     "output_type": "stream",
     "text": [
      "Weight shapes: [torch.Size([1, 686]), torch.Size([1])]\n"
     ]
    }
   ],
   "source": [
    "print(\"Weight shapes:\", [w.shape for w in model.parameters()])"
   ]
  },
  {
   "cell_type": "code",
   "execution_count": 88,
   "metadata": {},
   "outputs": [
    {
     "name": "stdout",
     "output_type": "stream",
     "text": [
      "Weight shapes: [torch.Size([1, 2280]), torch.Size([1])]\n"
     ]
    }
   ],
   "source": [
    "print(\"Weight shapes:\", [w.shape for w in model_.parameters()])"
   ]
  },
  {
   "cell_type": "code",
   "execution_count": 89,
   "metadata": {},
   "outputs": [],
   "source": [
    "from sklearn.model_selection import train_test_split\n",
    "X_train, X_test, y_train, y_test = train_test_split(X, y, test_size = 0.2, random_state = 4)\n",
    "X_train_, X_test_, y_train_, y_test_ = train_test_split(X_, y_, test_size = 0.2, random_state = 4)"
   ]
  },
  {
   "cell_type": "code",
   "execution_count": 94,
   "metadata": {},
   "outputs": [
    {
     "name": "stdout",
     "output_type": "stream",
     "text": [
      "step #0 | loss = 0.354\n",
      "step #10000 | loss = 0.127\n",
      "step #20000 | loss = 0.085\n",
      "step #30000 | loss = 0.090\n",
      "step #40000 | loss = 0.087\n",
      "step #50000 | loss = 0.072\n",
      "step #60000 | loss = 0.064\n",
      "step #70000 | loss = 0.071\n",
      "step #80000 | loss = 0.050\n",
      "step #90000 | loss = 0.047\n"
     ]
    }
   ],
   "source": [
    "history = []\n",
    "\n",
    "loss_function = nn.MSELoss()\n",
    "\n",
    "for i in range(100000):\n",
    "    model.train()\n",
    "    opt.zero_grad()  \n",
    "    \n",
    "    ix = np.random.randint(0, len(X_train), 300)\n",
    "    x_batch = torch.tensor(X_train.iloc[ix].values, dtype=torch.float)\n",
    "    y_batch = torch.tensor(y_train.iloc[ix].values, dtype=torch.float)\n",
    "    y_predicted = model(x_batch)\n",
    "    \n",
    "    loss = loss_function(y_predicted, y_batch.unsqueeze(1))\n",
    "    loss.backward()     \n",
    "    opt.step()             \n",
    "\n",
    "    history.append(loss.data.numpy())\n",
    "    if i % 10000 == 0:\n",
    "        print(\"step #%i | loss = %.3f\" % (i, loss))"
   ]
  },
  {
   "cell_type": "code",
   "execution_count": 90,
   "metadata": {},
   "outputs": [
    {
     "name": "stdout",
     "output_type": "stream",
     "text": [
      "step #0 | loss = 0.293\n",
      "step #10000 | loss = 0.042\n",
      "step #20000 | loss = 0.029\n",
      "step #30000 | loss = 0.015\n",
      "step #40000 | loss = 0.006\n",
      "step #50000 | loss = 0.003\n",
      "step #60000 | loss = 0.001\n",
      "step #70000 | loss = 0.001\n",
      "step #80000 | loss = 0.004\n",
      "step #90000 | loss = 0.000\n"
     ]
    }
   ],
   "source": [
    "history = []\n",
    "\n",
    "loss_function = nn.MSELoss()\n",
    "\n",
    "for i in range(100000):\n",
    "    model_.train()\n",
    "    opt_.zero_grad()  \n",
    "    \n",
    "    ix = np.random.randint(0, len(X_train_), 300)\n",
    "    x_batch_ = torch.tensor(X_train_.iloc[ix].values, dtype=torch.float)\n",
    "    y_batch_ = torch.tensor(y_train_.iloc[ix].values, dtype=torch.float)\n",
    "    y_predicted_ = model_(x_batch_)\n",
    "    \n",
    "    loss = loss_function(y_predicted_, y_batch_.unsqueeze(1))\n",
    "    loss.backward()     \n",
    "    opt_.step()             \n",
    "\n",
    "    history.append(loss.data.numpy())\n",
    "    if i % 10000 == 0:\n",
    "        print(\"step #%i | loss = %.3f\" % (i, loss))"
   ]
  },
  {
   "cell_type": "code",
   "execution_count": 95,
   "metadata": {},
   "outputs": [],
   "source": [
    "predicted_y_test = model(torch.tensor(X_test.values).float())[:, 0].data.numpy() > 0.5\n",
    "predicted_y_test_ = model_(torch.tensor(X_test_.values).float())[:, 0].data.numpy() > 0.5"
   ]
  },
  {
   "cell_type": "code",
   "execution_count": 96,
   "metadata": {},
   "outputs": [
    {
     "data": {
      "text/plain": [
       "0.8433333333333334"
      ]
     },
     "execution_count": 96,
     "metadata": {},
     "output_type": "execute_result"
    }
   ],
   "source": [
    "np.mean(predicted_y_test == y_test)"
   ]
  },
  {
   "cell_type": "code",
   "execution_count": 93,
   "metadata": {},
   "outputs": [
    {
     "data": {
      "text/plain": [
       "0.90633608815427"
      ]
     },
     "execution_count": 93,
     "metadata": {},
     "output_type": "execute_result"
    }
   ],
   "source": [
    "np.mean(predicted_y_test_ == y_test_)"
   ]
  },
  {
   "cell_type": "markdown",
   "metadata": {},
   "source": [
    "Заметим, что точность достигает точности, полученной с помощью обычной логистической регрессии."
   ]
  },
  {
   "cell_type": "code",
   "execution_count": 97,
   "metadata": {},
   "outputs": [
    {
     "data": {
      "text/plain": [
       "(-2.0, 2.0)"
      ]
     },
     "execution_count": 97,
     "metadata": {},
     "output_type": "execute_result"
    },
    {
     "data": {
      "image/png": "[encoded data removed]",
      "text/plain": [
       "<Figure size 360x360 with 1 Axes>"
      ]
     },
     "metadata": {
      "needs_background": "light"
     },
     "output_type": "display_data"
    },
    {
     "data": {
      "image/png": "[encoded data removed]",
      "text/plain": [
       "<Figure size 360x360 with 1 Axes>"
      ]
     },
     "metadata": {
      "needs_background": "light"
     },
     "output_type": "display_data"
    }
   ],
   "source": [
    "import seaborn as sns\n",
    "import matplotlib.pyplot as plt\n",
    "sns.displot(predicted_y_test - y_test)\n",
    "sns.displot(predicted_y_test_ - y_test_)\n",
    "plt.xlim(-2, 2)"
   ]
  },
  {
   "cell_type": "code",
   "execution_count": 98,
   "metadata": {},
   "outputs": [
    {
     "name": "stderr",
     "output_type": "stream",
     "text": [
      "<__array_function__ internals>:5: RuntimeWarning: Converting input from bool to <class 'numpy.uint8'> for compatibility.\n"
     ]
    },
    {
     "data": {
      "text/plain": [
       "(-5.0, 5.0)"
      ]
     },
     "execution_count": 98,
     "metadata": {},
     "output_type": "execute_result"
    },
    {
     "data": {
      "image/png": "[encoded data removed]",
      "text/plain": [
       "<Figure size 360x360 with 1 Axes>"
      ]
     },
     "metadata": {
      "needs_background": "light"
     },
     "output_type": "display_data"
    }
   ],
   "source": [
    "plt.figure(figsize=(5, 5))\n",
    "plt.hist(y_test, bins=np.linspace(-5, 5, 10))\n",
    "plt.hist(predicted_y_test, bins=np.linspace(-5, 5, 10))\n",
    "plt.xlim(-5, 5)"
   ]
  },
  {
   "cell_type": "code",
   "execution_count": 99,
   "metadata": {},
   "outputs": [
    {
     "data": {
      "text/plain": [
       "(-5.0, 5.0)"
      ]
     },
     "execution_count": 99,
     "metadata": {},
     "output_type": "execute_result"
    },
    {
     "data": {
      "image/png": "[encoded data removed]",
      "text/plain": [
       "<Figure size 360x360 with 1 Axes>"
      ]
     },
     "metadata": {
      "needs_background": "light"
     },
     "output_type": "display_data"
    }
   ],
   "source": [
    "plt.figure(figsize=(5, 5))\n",
    "plt.hist(y_test_, bins=np.linspace(-5, 5, 10))\n",
    "plt.hist(predicted_y_test_, bins=np.linspace(-5, 5, 10))\n",
    "plt.xlim(-5, 5)"
   ]
  },
  {
   "cell_type": "markdown",
   "metadata": {},
   "source": [
    "Используем наивный байесовский классификатор(naive Bayes)."
   ]
  },
  {
   "cell_type": "code",
   "execution_count": 124,
   "metadata": {},
   "outputs": [],
   "source": [
    "from sklearn.naive_bayes import GaussianNB\n",
    "from sklearn.metrics import classification_report\n",
    "\n",
    "X_train, X_test, y_train, y_test = train_test_split(X, y, test_size=0.2, random_state=0)\n",
    "X_train_, X_test_, y_train_, y_test_ = train_test_split(X_, y_, test_size=0.2, random_state=0)\n",
    "gnb = GaussianNB()\n",
    "y_pred = gnb.fit(X_train, y_train).predict(X_test)"
   ]
  },
  {
   "cell_type": "code",
   "execution_count": 114,
   "metadata": {},
   "outputs": [
    {
     "data": {
      "text/plain": [
       "0.6466666666666666"
      ]
     },
     "execution_count": 114,
     "metadata": {},
     "output_type": "execute_result"
    }
   ],
   "source": [
    "gnb.score(X_test, y_test)"
   ]
  },
  {
   "cell_type": "code",
   "execution_count": 129,
   "metadata": {},
   "outputs": [],
   "source": [
    "gnb_ = GaussianNB()\n",
    "y_pred_ = gnb_.fit(X_train_, y_train_).predict(X_test_)"
   ]
  },
  {
   "cell_type": "code",
   "execution_count": 130,
   "metadata": {},
   "outputs": [
    {
     "data": {
      "text/plain": [
       "0.6336088154269972"
      ]
     },
     "execution_count": 130,
     "metadata": {},
     "output_type": "execute_result"
    }
   ],
   "source": [
    "gnb_.score(X_test_, y_test_)"
   ]
  },
  {
   "cell_type": "code",
   "execution_count": 118,
   "metadata": {},
   "outputs": [
    {
     "name": "stdout",
     "output_type": "stream",
     "text": [
      "              precision    recall  f1-score   support\n",
      "\n",
      " Non-churned       0.63      0.90      0.74       333\n",
      "     Churned       0.73      0.33      0.45       267\n",
      "\n",
      "    accuracy                           0.65       600\n",
      "   macro avg       0.68      0.61      0.60       600\n",
      "weighted avg       0.67      0.65      0.61       600\n",
      "\n",
      "              precision    recall  f1-score   support\n",
      "\n",
      " Non-churned       0.65      0.78      0.71       206\n",
      "     Churned       0.61      0.44      0.51       157\n",
      "\n",
      "    accuracy                           0.63       363\n",
      "   macro avg       0.63      0.61      0.61       363\n",
      "weighted avg       0.63      0.63      0.62       363\n",
      "\n"
     ]
    }
   ],
   "source": [
    "print(classification_report(y_test, y_pred, target_names=['Non-churned', 'Churned']))\n",
    "print(classification_report(y_test_, y_pred_, target_names=['Non-churned', 'Churned']))"
   ]
  },
  {
   "cell_type": "code",
   "execution_count": 119,
   "metadata": {},
   "outputs": [
    {
     "data": {
      "text/plain": [
       "(-2.0, 2.0)"
      ]
     },
     "execution_count": 119,
     "metadata": {},
     "output_type": "execute_result"
    },
    {
     "data": {
      "image/png": "[encoded data removed]",
      "text/plain": [
       "<Figure size 360x360 with 1 Axes>"
      ]
     },
     "metadata": {
      "needs_background": "light"
     },
     "output_type": "display_data"
    },
    {
     "data": {
      "image/png": "[encoded data removed]",
      "text/plain": [
       "<Figure size 360x360 with 1 Axes>"
      ]
     },
     "metadata": {
      "needs_background": "light"
     },
     "output_type": "display_data"
    }
   ],
   "source": [
    "import seaborn as sns\n",
    "import matplotlib.pyplot as plt\n",
    "sns.displot(y_pred - y_test)\n",
    "sns.displot(y_pred_ - y_test_)\n",
    "plt.xlim(-2, 2)"
   ]
  },
  {
   "cell_type": "code",
   "execution_count": 120,
   "metadata": {},
   "outputs": [
    {
     "data": {
      "text/plain": [
       "(-5.0, 5.0)"
      ]
     },
     "execution_count": 120,
     "metadata": {},
     "output_type": "execute_result"
    },
    {
     "data": {
      "image/png": "[encoded data removed]",
      "text/plain": [
       "<Figure size 360x360 with 1 Axes>"
      ]
     },
     "metadata": {
      "needs_background": "light"
     },
     "output_type": "display_data"
    }
   ],
   "source": [
    "plt.figure(figsize=(5, 5))\n",
    "plt.hist(y_test, bins=np.linspace(-5, 5, 10))\n",
    "plt.hist(y_pred, bins=np.linspace(-5, 5, 10))\n",
    "plt.xlim(-5, 5)"
   ]
  },
  {
   "cell_type": "code",
   "execution_count": 121,
   "metadata": {},
   "outputs": [
    {
     "data": {
      "text/plain": [
       "(-5.0, 5.0)"
      ]
     },
     "execution_count": 121,
     "metadata": {},
     "output_type": "execute_result"
    },
    {
     "data": {
      "image/png": "[encoded data removed]",
      "text/plain": [
       "<Figure size 360x360 with 1 Axes>"
      ]
     },
     "metadata": {
      "needs_background": "light"
     },
     "output_type": "display_data"
    }
   ],
   "source": [
    "plt.figure(figsize=(5, 5))\n",
    "plt.hist(y_test_, bins=np.linspace(-5, 5, 10))\n",
    "plt.hist(y_pred_, bins=np.linspace(-5, 5, 10))\n",
    "plt.xlim(-5, 5)"
   ]
  },
  {
   "cell_type": "code",
   "execution_count": 125,
   "metadata": {},
   "outputs": [
    {
     "data": {
      "image/png": "[encoded data removed]",
      "text/plain": [
       "<Figure size 432x288 with 1 Axes>"
      ]
     },
     "metadata": {
      "needs_background": "light"
     },
     "output_type": "display_data"
    }
   ],
   "source": [
    "from sklearn.metrics import roc_curve, auc\n",
    "from sklearn.datasets import make_classification\n",
    "def roc_a(y_test, y_predicted_prob):\n",
    "    fpr, tpr, thresholds = roc_curve(y_test, y_predicted_prob[:,1])\n",
    "    roc_auc= auc(fpr, tpr)\n",
    "    plt.figure()\n",
    "    plt.plot(fpr, tpr, label='Кривая ошибок (Площадь = %0.2f)' % roc_auc)\n",
    "    plt.plot([0, 1], [0, 1], 'k--')\n",
    "    plt.xlim([0.0, 1.0])\n",
    "    plt.ylim([0.0, 1.05])\n",
    "    plt.xlabel('Ложноположительное решение')\n",
    "    plt.ylabel('Истинно-положительное решение')\n",
    "    plt.legend(loc=\"lower right\")\n",
    "    plt.show()\n",
    "y_pred_prob = gnb.predict_proba(X_test)\n",
    "roc_a(y_test, y_pred_prob)"
   ]
  },
  {
   "cell_type": "code",
   "execution_count": 131,
   "metadata": {},
   "outputs": [
    {
     "data": {
      "image/png": "[encoded data removed]",
      "text/plain": [
       "<Figure size 432x288 with 1 Axes>"
      ]
     },
     "metadata": {
      "needs_background": "light"
     },
     "output_type": "display_data"
    }
   ],
   "source": [
    "y_pred_prob_ = gnb_.predict_proba(X_test_)\n",
    "roc_a(y_test_, y_pred_prob_)"
   ]
  },
  {
   "cell_type": "markdown",
   "metadata": {},
   "source": [
    "Точность получена низкая, но достаточно хорошая для такого способа. Это свидетельствует о хорошей разрешимости задачи. Необходимо еще исследовать ее разрешимость с помощью сверточных нейронных сетей, а также используя другие способы кодирования последовательностей аминокислот."
   ]
  }
 ],
 "metadata": {
  "kernelspec": {
   "display_name": "Python 3",
   "language": "python",
   "name": "python3"
  },
  "language_info": {
   "codemirror_mode": {
    "name": "ipython",
    "version": 3
   },
   "file_extension": ".py",
   "mimetype": "text/x-python",
   "name": "python",
   "nbconvert_exporter": "python",
   "pygments_lexer": "ipython3",
   "version": "3.8.2"
  }
 },
 "nbformat": 4,
 "nbformat_minor": 4
}
